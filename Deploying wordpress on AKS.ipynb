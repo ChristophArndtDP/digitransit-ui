{
 "cells": [
  {
   "cell_type": "markdown",
   "metadata": {},
   "source": [
    "# Welcome "
   ]
  },
  {
   "cell_type": "markdown",
   "metadata": {},
   "source": [
    "You have to be logged into Micorsoft Azure at https://azure.microsoft.com/en-us/free/.\n",
    "Before you begin install Azure-CLI and kubectl from the links below.\n",
    "\n",
    "Azure-CLI: https://docs.microsoft.com/en-us/cli/azure/install-azure-cli-apt?view=azure-cli-latest\n",
    "\n",
    "kubectl: https://kubernetes.io/docs/https://docs.microsoft.com/en-us/cli/azure/install-azure-cli-apt?view=azure-cli-latesttasks/tools/install-kubectl/"
   ]
  },
  {
   "cell_type": "code",
   "execution_count": null,
   "metadata": {},
   "outputs": [],
   "source": [
    "!az login"
   ]
  },
  {
   "cell_type": "code",
   "execution_count": 1,
   "metadata": {
    "scrolled": true
   },
   "outputs": [
    {
     "name": "stdout",
     "output_type": "stream",
     "text": [
      "{\r\n",
      "  \"id\": \"/subscriptions/f2069232-9341-4d23-978b-154f0a697754/resourceGroups/myResourceGroup\",\r\n",
      "  \"location\": \"westeurope\",\r\n",
      "  \"managedBy\": null,\r\n",
      "  \"name\": \"myResourceGroup\",\r\n",
      "  \"properties\": {\r\n",
      "    \"provisioningState\": \"Succeeded\"\r\n",
      "  },\r\n",
      "  \"tags\": null,\r\n",
      "  \"type\": null\r\n",
      "}\r\n",
      "\u001b[0m"
     ]
    }
   ],
   "source": [
    "!az group create --name myResourceGroup --location westeurope"
   ]
  },
  {
   "cell_type": "markdown",
   "metadata": {},
   "source": [
    "Run the following command in terminal, because the notebook will terminate it with timeout error."
   ]
  },
  {
   "cell_type": "code",
   "execution_count": 10,
   "metadata": {},
   "outputs": [
    {
     "name": "stdout",
     "output_type": "stream",
     "text": [
      "\u001b[91maz: error: unrecognized arguments: --ExecutePreprocessor.timeout=1800\u001b[0m\r\n",
      "usage: az [-h] [--verbose] [--debug]\r\n",
      "          [--output {json,jsonc,table,tsv,yaml,none}] [--query JMESPATH]\r\n",
      "          {aks} ...\r\n"
     ]
    }
   ],
   "source": [
    "!az aks create \\\n",
    "    --resource-group myResourceGroup \\\n",
    "    --name myAKSCluster \\\n",
    "    --node-count 2 \\\n",
    "    --enable-addons monitoring \\\n",
    "    --generate-ssh-keys  \n",
    "    \n"
   ]
  },
  {
   "cell_type": "markdown",
   "metadata": {},
   "source": [
    "The command above usually takes up to 20 minutes."
   ]
  },
  {
   "cell_type": "code",
   "execution_count": null,
   "metadata": {},
   "outputs": [],
   "source": [
    "!az aks get-credentials --resource-group myResourceGroup --name myAKSCluster"
   ]
  },
  {
   "cell_type": "code",
   "execution_count": null,
   "metadata": {},
   "outputs": [],
   "source": [
    "!kubectl get nodes"
   ]
  },
  {
   "cell_type": "code",
   "execution_count": null,
   "metadata": {},
   "outputs": [],
   "source": [
    "cd Desktop"
   ]
  },
  {
   "cell_type": "code",
   "execution_count": null,
   "metadata": {},
   "outputs": [],
   "source": [
    "!mkdir application"
   ]
  },
  {
   "cell_type": "code",
   "execution_count": null,
   "metadata": {},
   "outputs": [],
   "source": [
    "cd application"
   ]
  },
  {
   "cell_type": "code",
   "execution_count": 14,
   "metadata": {},
   "outputs": [],
   "source": [
    "!touch kustomization.yaml "
   ]
  },
  {
   "cell_type": "code",
   "execution_count": null,
   "metadata": {},
   "outputs": [],
   "source": [
    "!chmod 777 kustomization.yaml"
   ]
  },
  {
   "cell_type": "code",
   "execution_count": 10,
   "metadata": {},
   "outputs": [
    {
     "name": "stdout",
     "output_type": "stream",
     "text": [
      "Overwriting kustomization.yaml\n"
     ]
    }
   ],
   "source": [
    "%%writefile kustomization.yaml\n",
    "secretGenerator:\n",
    "- name: mysql-pass\n",
    "  literals:\n",
    "  - password=wordpress\n",
    "EOF"
   ]
  },
  {
   "cell_type": "code",
   "execution_count": null,
   "metadata": {},
   "outputs": [],
   "source": [
    "!curl -LO https://k8s.io/examples/application/wordpress/mysql-deployment.yaml"
   ]
  },
  {
   "cell_type": "code",
   "execution_count": null,
   "metadata": {},
   "outputs": [],
   "source": [
    "!curl -LO https://k8s.io/examples/application/wordpress/wordpress-deployment.yaml"
   ]
  },
  {
   "cell_type": "markdown",
   "metadata": {},
   "source": [
    "change version of wordpress to the latest in the wordpress-deployment.yaml file (tested: 5.2.3)"
   ]
  },
  {
   "cell_type": "code",
   "execution_count": 11,
   "metadata": {},
   "outputs": [
    {
     "name": "stdout",
     "output_type": "stream",
     "text": [
      "Overwriting kustomization.yaml\n"
     ]
    }
   ],
   "source": [
    "%%writefile kustomization.yaml\n",
    "resources:\n",
    "  - mysql-deployment.yaml\n",
    "  - wordpress-deployment.yaml\n",
    "EOF"
   ]
  },
  {
   "cell_type": "code",
   "execution_count": null,
   "metadata": {},
   "outputs": [],
   "source": [
    "!kubectl apply -k ./"
   ]
  },
  {
   "cell_type": "code",
   "execution_count": null,
   "metadata": {},
   "outputs": [],
   "source": [
    "!kubectl get pods"
   ]
  },
  {
   "cell_type": "markdown",
   "metadata": {},
   "source": [
    "The command above usually takes 4-5 mins, the pods are ready when the status is changed to \"running\"."
   ]
  },
  {
   "cell_type": "code",
   "execution_count": null,
   "metadata": {},
   "outputs": [],
   "source": [
    "!kubectl get services wordpress "
   ]
  },
  {
   "cell_type": "markdown",
   "metadata": {},
   "source": [
    "The command above usually takes 3-4 mins, the website is reachable when You can see the external IP address."
   ]
  },
  {
   "cell_type": "markdown",
   "metadata": {},
   "source": [
    "# The commands belowe delete everything, that was created!"
   ]
  },
  {
   "cell_type": "code",
   "execution_count": null,
   "metadata": {},
   "outputs": [],
   "source": [
    "!kubectl delete -k ./"
   ]
  },
  {
   "cell_type": "code",
   "execution_count": null,
   "metadata": {},
   "outputs": [],
   "source": [
    "!az group delete --name myResourceGroup --yes --no-wait"
   ]
  }
 ],
 "metadata": {
  "kernelspec": {
   "display_name": "Python 3",
   "language": "python",
   "name": "python3"
  },
  "language_info": {
   "codemirror_mode": {
    "name": "ipython",
    "version": 3
   },
   "file_extension": ".py",
   "mimetype": "text/x-python",
   "name": "python",
   "nbconvert_exporter": "python",
   "pygments_lexer": "ipython3",
   "version": "3.7.3"
  }
 },
 "nbformat": 4,
 "nbformat_minor": 2
}
